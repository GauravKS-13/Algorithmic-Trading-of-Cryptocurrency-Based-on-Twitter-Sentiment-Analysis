{
 "cells": [
  {
   "cell_type": "code",
   "execution_count": 1,
   "metadata": {},
   "outputs": [
    {
     "name": "stdout",
     "output_type": "stream",
     "text": [
      "Collecting tweepy\n",
      "  Downloading tweepy-3.10.0-py2.py3-none-any.whl (30 kB)\n",
      "Requirement already satisfied: requests[socks]>=2.11.1 in c:\\users\\hp\\anaconda3\\lib\\site-packages (from tweepy) (2.24.0)\n",
      "Collecting requests-oauthlib>=0.7.0\n",
      "  Downloading requests_oauthlib-1.3.0-py2.py3-none-any.whl (23 kB)\n",
      "Requirement already satisfied: six>=1.10.0 in c:\\users\\hp\\anaconda3\\lib\\site-packages (from tweepy) (1.15.0)\n",
      "Requirement already satisfied: idna<3,>=2.5 in c:\\users\\hp\\anaconda3\\lib\\site-packages (from requests[socks]>=2.11.1->tweepy) (2.10)\n",
      "Requirement already satisfied: certifi>=2017.4.17 in c:\\users\\hp\\anaconda3\\lib\\site-packages (from requests[socks]>=2.11.1->tweepy) (2020.6.20)\n",
      "Requirement already satisfied: urllib3!=1.25.0,!=1.25.1,<1.26,>=1.21.1 in c:\\users\\hp\\anaconda3\\lib\\site-packages (from requests[socks]>=2.11.1->tweepy) (1.25.11)\n",
      "Requirement already satisfied: chardet<4,>=3.0.2 in c:\\users\\hp\\anaconda3\\lib\\site-packages (from requests[socks]>=2.11.1->tweepy) (3.0.4)\n",
      "Requirement already satisfied: PySocks!=1.5.7,>=1.5.6; extra == \"socks\" in c:\\users\\hp\\anaconda3\\lib\\site-packages (from requests[socks]>=2.11.1->tweepy) (1.7.1)\n",
      "Collecting oauthlib>=3.0.0\n",
      "  Downloading oauthlib-3.1.0-py2.py3-none-any.whl (147 kB)\n",
      "Installing collected packages: oauthlib, requests-oauthlib, tweepy\n",
      "Successfully installed oauthlib-3.1.0 requests-oauthlib-1.3.0 tweepy-3.10.0\n",
      "Note: you may need to restart the kernel to use updated packages.\n"
     ]
    }
   ],
   "source": [
    "!pip install tweepy"
   ]
  },
  {
   "cell_type": "code",
   "execution_count": 15,
   "metadata": {},
   "outputs": [],
   "source": [
    "import tweepy\n",
    "import pandas as pd\n",
    "import numpy as np"
   ]
  },
  {
   "cell_type": "code",
   "execution_count": 3,
   "metadata": {},
   "outputs": [],
   "source": [
    "# all 4 authentication keys to acess twitter API\n",
    "# to connect as OAth Handler or jump server/ reverse proxy server\n",
    "consumer_key = \"70q25kXFLq6Ij7506IF1vUdwH\"\n",
    "consumer_key_secret = \"MkprnkFZj4ZL9dcOUg76JG52hBQHLHPMnljtGndEYEG7kwWuhr\"\n",
    "\n",
    "# from proxy server we need to connect\n",
    "access_token = \"1381975103513133058-JMhHLotPpVo6sAPALjkgnH7YnSNY5l\"\n",
    "access_token_secret = \"xRQbU7DoXUaaAXWtuSUO3CcQ9fy7IfAuRnfhatqPdonKe\""
   ]
  },
  {
   "cell_type": "code",
   "execution_count": 4,
   "metadata": {},
   "outputs": [],
   "source": [
    "# connected to jump server of twitter\n",
    "auth = tweepy.OAuthHandler(consumer_key, consumer_key_secret)"
   ]
  },
  {
   "cell_type": "code",
   "execution_count": 5,
   "metadata": {},
   "outputs": [],
   "source": [
    "# now we can connect from jump server to web server of twitter\n",
    "auth.set_access_token(access_token, access_token_secret)"
   ]
  },
  {
   "cell_type": "code",
   "execution_count": 6,
   "metadata": {},
   "outputs": [],
   "source": [
    "# now we can connect to API Strong server of twitter\n",
    "api = tweepy.API(auth)"
   ]
  },
  {
   "cell_type": "code",
   "execution_count": 18,
   "metadata": {},
   "outputs": [],
   "source": [
    "public_tweets = api.search('bitcoin', count=200, lang='en', tweet_mode='extended')"
   ]
  },
  {
   "cell_type": "code",
   "execution_count": 20,
   "metadata": {},
   "outputs": [
    {
     "data": {
      "text/html": [
       "<div>\n",
       "<style scoped>\n",
       "    .dataframe tbody tr th:only-of-type {\n",
       "        vertical-align: middle;\n",
       "    }\n",
       "\n",
       "    .dataframe tbody tr th {\n",
       "        vertical-align: top;\n",
       "    }\n",
       "\n",
       "    .dataframe thead th {\n",
       "        text-align: right;\n",
       "    }\n",
       "</style>\n",
       "<table border=\"1\" class=\"dataframe\">\n",
       "  <thead>\n",
       "    <tr style=\"text-align: right;\">\n",
       "      <th></th>\n",
       "      <th>original_Tweets</th>\n",
       "    </tr>\n",
       "  </thead>\n",
       "  <tbody>\n",
       "    <tr>\n",
       "      <th>0</th>\n",
       "      <td>Who’s the punk holding $xvg back</td>\n",
       "    </tr>\n",
       "    <tr>\n",
       "      <th>1</th>\n",
       "      <td>RT @Bitcoin: #Bitcoin is in the top-10 of the ...</td>\n",
       "    </tr>\n",
       "    <tr>\n",
       "      <th>2</th>\n",
       "      <td>RT @cryptovenizo: $50 in 24hrs\\n\\n✓ RT this \\n...</td>\n",
       "    </tr>\n",
       "    <tr>\n",
       "      <th>3</th>\n",
       "      <td>RT @WSBChairman: Tesla is up ~$1,000,000,000 f...</td>\n",
       "    </tr>\n",
       "    <tr>\n",
       "      <th>4</th>\n",
       "      <td>RT @steve_hanke: #BREAKING: #Bitcoin has surge...</td>\n",
       "    </tr>\n",
       "    <tr>\n",
       "      <th>5</th>\n",
       "      <td>@AImas8706 @BadEconTakes bitcoin trading today...</td>\n",
       "    </tr>\n",
       "    <tr>\n",
       "      <th>6</th>\n",
       "      <td>@TrustWalletApp Bitcoin, Etherium, Dot and Ada</td>\n",
       "    </tr>\n",
       "    <tr>\n",
       "      <th>7</th>\n",
       "      <td>RT @cryptovenizo: $50 in 24hrs\\n\\n✓ RT \\n✓ Fol...</td>\n",
       "    </tr>\n",
       "    <tr>\n",
       "      <th>8</th>\n",
       "      <td>RT @binance: Like this tweet if you bought #Bi...</td>\n",
       "    </tr>\n",
       "    <tr>\n",
       "      <th>9</th>\n",
       "      <td>Well obviously. It’s a public blockchain. \\n\\n...</td>\n",
       "    </tr>\n",
       "  </tbody>\n",
       "</table>\n",
       "</div>"
      ],
      "text/plain": [
       "                                     original_Tweets\n",
       "0                   Who’s the punk holding $xvg back\n",
       "1  RT @Bitcoin: #Bitcoin is in the top-10 of the ...\n",
       "2  RT @cryptovenizo: $50 in 24hrs\\n\\n✓ RT this \\n...\n",
       "3  RT @WSBChairman: Tesla is up ~$1,000,000,000 f...\n",
       "4  RT @steve_hanke: #BREAKING: #Bitcoin has surge...\n",
       "5  @AImas8706 @BadEconTakes bitcoin trading today...\n",
       "6     @TrustWalletApp Bitcoin, Etherium, Dot and Ada\n",
       "7  RT @cryptovenizo: $50 in 24hrs\\n\\n✓ RT \\n✓ Fol...\n",
       "8  RT @binance: Like this tweet if you bought #Bi...\n",
       "9  Well obviously. It’s a public blockchain. \\n\\n..."
      ]
     },
     "execution_count": 20,
     "metadata": {},
     "output_type": "execute_result"
    }
   ],
   "source": [
    "# will now create a pandas dataframe as follows:\n",
    "df = pd.DataFrame(data=[tweet.full_text for tweet in public_tweets], columns=['original_Tweets'])\n",
    "\n",
    "# We display the first 10 elements of the dataframe:\n",
    "df.head(10)"
   ]
  },
  {
   "cell_type": "code",
   "execution_count": 22,
   "metadata": {},
   "outputs": [],
   "source": [
    "# add relevant data:\n",
    "df['len']  = np.array([len(tweet.full_text) for tweet in public_tweets])\n",
    "df['ID']   = np.array([tweet.id for tweet in public_tweets])\n",
    "df['Date'] = np.array([tweet.created_at for tweet in public_tweets])\n",
    "df['Source'] = np.array([tweet.source for tweet in public_tweets])\n",
    "df['Likes']  = np.array([tweet.favorite_count for tweet in public_tweets])\n",
    "df['RTs']    = np.array([tweet.retweet_count for tweet in public_tweets])"
   ]
  },
  {
   "cell_type": "code",
   "execution_count": 23,
   "metadata": {},
   "outputs": [
    {
     "data": {
      "text/html": [
       "<div>\n",
       "<style scoped>\n",
       "    .dataframe tbody tr th:only-of-type {\n",
       "        vertical-align: middle;\n",
       "    }\n",
       "\n",
       "    .dataframe tbody tr th {\n",
       "        vertical-align: top;\n",
       "    }\n",
       "\n",
       "    .dataframe thead th {\n",
       "        text-align: right;\n",
       "    }\n",
       "</style>\n",
       "<table border=\"1\" class=\"dataframe\">\n",
       "  <thead>\n",
       "    <tr style=\"text-align: right;\">\n",
       "      <th></th>\n",
       "      <th>original_Tweets</th>\n",
       "      <th>len</th>\n",
       "      <th>ID</th>\n",
       "      <th>Date</th>\n",
       "      <th>Source</th>\n",
       "      <th>Likes</th>\n",
       "      <th>RTs</th>\n",
       "    </tr>\n",
       "  </thead>\n",
       "  <tbody>\n",
       "    <tr>\n",
       "      <th>0</th>\n",
       "      <td>Who’s the punk holding $xvg back</td>\n",
       "      <td>32</td>\n",
       "      <td>1382003660746600451</td>\n",
       "      <td>2021-04-13 16:12:03</td>\n",
       "      <td>Twitter for iPhone</td>\n",
       "      <td>0</td>\n",
       "      <td>0</td>\n",
       "    </tr>\n",
       "    <tr>\n",
       "      <th>1</th>\n",
       "      <td>RT @Bitcoin: #Bitcoin is in the top-10 of the ...</td>\n",
       "      <td>94</td>\n",
       "      <td>1382003660197142532</td>\n",
       "      <td>2021-04-13 16:12:03</td>\n",
       "      <td>Twitter Web App</td>\n",
       "      <td>0</td>\n",
       "      <td>187</td>\n",
       "    </tr>\n",
       "    <tr>\n",
       "      <th>2</th>\n",
       "      <td>RT @cryptovenizo: $50 in 24hrs\\n\\n✓ RT this \\n...</td>\n",
       "      <td>131</td>\n",
       "      <td>1382003659374878723</td>\n",
       "      <td>2021-04-13 16:12:03</td>\n",
       "      <td>Twitter for Android</td>\n",
       "      <td>0</td>\n",
       "      <td>1026</td>\n",
       "    </tr>\n",
       "    <tr>\n",
       "      <th>3</th>\n",
       "      <td>RT @WSBChairman: Tesla is up ~$1,000,000,000 f...</td>\n",
       "      <td>78</td>\n",
       "      <td>1382003655717629954</td>\n",
       "      <td>2021-04-13 16:12:02</td>\n",
       "      <td>Twitter for iPhone</td>\n",
       "      <td>0</td>\n",
       "      <td>307</td>\n",
       "    </tr>\n",
       "    <tr>\n",
       "      <th>4</th>\n",
       "      <td>RT @steve_hanke: #BREAKING: #Bitcoin has surge...</td>\n",
       "      <td>139</td>\n",
       "      <td>1382003654547230720</td>\n",
       "      <td>2021-04-13 16:12:02</td>\n",
       "      <td>Twitter for iPhone</td>\n",
       "      <td>0</td>\n",
       "      <td>54</td>\n",
       "    </tr>\n",
       "    <tr>\n",
       "      <th>5</th>\n",
       "      <td>@AImas8706 @BadEconTakes bitcoin trading today...</td>\n",
       "      <td>108</td>\n",
       "      <td>1382003653989560321</td>\n",
       "      <td>2021-04-13 16:12:02</td>\n",
       "      <td>Twitter for iPhone</td>\n",
       "      <td>0</td>\n",
       "      <td>0</td>\n",
       "    </tr>\n",
       "    <tr>\n",
       "      <th>6</th>\n",
       "      <td>@TrustWalletApp Bitcoin, Etherium, Dot and Ada</td>\n",
       "      <td>46</td>\n",
       "      <td>1382003652789993472</td>\n",
       "      <td>2021-04-13 16:12:01</td>\n",
       "      <td>Twitter for Android</td>\n",
       "      <td>0</td>\n",
       "      <td>0</td>\n",
       "    </tr>\n",
       "    <tr>\n",
       "      <th>7</th>\n",
       "      <td>RT @cryptovenizo: $50 in 24hrs\\n\\n✓ RT \\n✓ Fol...</td>\n",
       "      <td>127</td>\n",
       "      <td>1382003650940215304</td>\n",
       "      <td>2021-04-13 16:12:01</td>\n",
       "      <td>Twitter for Android</td>\n",
       "      <td>0</td>\n",
       "      <td>796</td>\n",
       "    </tr>\n",
       "    <tr>\n",
       "      <th>8</th>\n",
       "      <td>RT @binance: Like this tweet if you bought #Bi...</td>\n",
       "      <td>62</td>\n",
       "      <td>1382003650835275776</td>\n",
       "      <td>2021-04-13 16:12:01</td>\n",
       "      <td>Twitter Web App</td>\n",
       "      <td>0</td>\n",
       "      <td>858</td>\n",
       "    </tr>\n",
       "    <tr>\n",
       "      <th>9</th>\n",
       "      <td>Well obviously. It’s a public blockchain. \\n\\n...</td>\n",
       "      <td>144</td>\n",
       "      <td>1382003649279356928</td>\n",
       "      <td>2021-04-13 16:12:01</td>\n",
       "      <td>Twitter for iPhone</td>\n",
       "      <td>0</td>\n",
       "      <td>0</td>\n",
       "    </tr>\n",
       "  </tbody>\n",
       "</table>\n",
       "</div>"
      ],
      "text/plain": [
       "                                     original_Tweets  len  \\\n",
       "0                   Who’s the punk holding $xvg back   32   \n",
       "1  RT @Bitcoin: #Bitcoin is in the top-10 of the ...   94   \n",
       "2  RT @cryptovenizo: $50 in 24hrs\\n\\n✓ RT this \\n...  131   \n",
       "3  RT @WSBChairman: Tesla is up ~$1,000,000,000 f...   78   \n",
       "4  RT @steve_hanke: #BREAKING: #Bitcoin has surge...  139   \n",
       "5  @AImas8706 @BadEconTakes bitcoin trading today...  108   \n",
       "6     @TrustWalletApp Bitcoin, Etherium, Dot and Ada   46   \n",
       "7  RT @cryptovenizo: $50 in 24hrs\\n\\n✓ RT \\n✓ Fol...  127   \n",
       "8  RT @binance: Like this tweet if you bought #Bi...   62   \n",
       "9  Well obviously. It’s a public blockchain. \\n\\n...  144   \n",
       "\n",
       "                    ID                Date               Source  Likes   RTs  \n",
       "0  1382003660746600451 2021-04-13 16:12:03   Twitter for iPhone      0     0  \n",
       "1  1382003660197142532 2021-04-13 16:12:03      Twitter Web App      0   187  \n",
       "2  1382003659374878723 2021-04-13 16:12:03  Twitter for Android      0  1026  \n",
       "3  1382003655717629954 2021-04-13 16:12:02   Twitter for iPhone      0   307  \n",
       "4  1382003654547230720 2021-04-13 16:12:02   Twitter for iPhone      0    54  \n",
       "5  1382003653989560321 2021-04-13 16:12:02   Twitter for iPhone      0     0  \n",
       "6  1382003652789993472 2021-04-13 16:12:01  Twitter for Android      0     0  \n",
       "7  1382003650940215304 2021-04-13 16:12:01  Twitter for Android      0   796  \n",
       "8  1382003650835275776 2021-04-13 16:12:01      Twitter Web App      0   858  \n",
       "9  1382003649279356928 2021-04-13 16:12:01   Twitter for iPhone      0     0  "
      ]
     },
     "metadata": {},
     "output_type": "display_data"
    }
   ],
   "source": [
    "# Display of first 10 elements from dataframe:\n",
    "display(df.head(10))"
   ]
  },
  {
   "cell_type": "code",
   "execution_count": 24,
   "metadata": {},
   "outputs": [],
   "source": [
    "# dataframe to be stored in CSV file\n",
    "df.to_csv('bitcointweetsscraping.csv')"
   ]
  },
  {
   "cell_type": "code",
   "execution_count": null,
   "metadata": {},
   "outputs": [],
   "source": []
  },
  {
   "cell_type": "code",
   "execution_count": null,
   "metadata": {},
   "outputs": [],
   "source": []
  }
 ],
 "metadata": {
  "kernelspec": {
   "display_name": "Python 3",
   "language": "python",
   "name": "python3"
  },
  "language_info": {
   "codemirror_mode": {
    "name": "ipython",
    "version": 3
   },
   "file_extension": ".py",
   "mimetype": "text/x-python",
   "name": "python",
   "nbconvert_exporter": "python",
   "pygments_lexer": "ipython3",
   "version": "3.8.5"
  }
 },
 "nbformat": 4,
 "nbformat_minor": 4
}
