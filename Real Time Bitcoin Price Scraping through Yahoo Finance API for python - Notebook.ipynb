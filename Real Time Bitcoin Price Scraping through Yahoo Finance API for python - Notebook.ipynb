{
 "cells": [
  {
   "cell_type": "code",
   "execution_count": 2,
   "metadata": {},
   "outputs": [
    {
     "name": "stdout",
     "output_type": "stream",
     "text": [
      "Collecting yfinance\n",
      "  Downloading yfinance-0.1.59.tar.gz (25 kB)\n",
      "Requirement already satisfied: pandas>=0.24 in c:\\users\\hp\\anaconda3\\lib\\site-packages (from yfinance) (1.1.3)\n",
      "Requirement already satisfied: numpy>=1.15 in c:\\users\\hp\\anaconda3\\lib\\site-packages (from yfinance) (1.19.2)\n",
      "Requirement already satisfied: requests>=2.20 in c:\\users\\hp\\anaconda3\\lib\\site-packages (from yfinance) (2.24.0)\n",
      "Collecting multitasking>=0.0.7\n",
      "  Downloading multitasking-0.0.9.tar.gz (8.1 kB)\n",
      "Requirement already satisfied: lxml>=4.5.1 in c:\\users\\hp\\anaconda3\\lib\\site-packages (from yfinance) (4.6.1)\n",
      "Requirement already satisfied: python-dateutil>=2.7.3 in c:\\users\\hp\\anaconda3\\lib\\site-packages (from pandas>=0.24->yfinance) (2.8.1)\n",
      "Requirement already satisfied: pytz>=2017.2 in c:\\users\\hp\\anaconda3\\lib\\site-packages (from pandas>=0.24->yfinance) (2020.1)\n",
      "Requirement already satisfied: urllib3!=1.25.0,!=1.25.1,<1.26,>=1.21.1 in c:\\users\\hp\\anaconda3\\lib\\site-packages (from requests>=2.20->yfinance) (1.25.11)\n",
      "Requirement already satisfied: certifi>=2017.4.17 in c:\\users\\hp\\anaconda3\\lib\\site-packages (from requests>=2.20->yfinance) (2020.6.20)\n",
      "Requirement already satisfied: idna<3,>=2.5 in c:\\users\\hp\\anaconda3\\lib\\site-packages (from requests>=2.20->yfinance) (2.10)\n",
      "Requirement already satisfied: chardet<4,>=3.0.2 in c:\\users\\hp\\anaconda3\\lib\\site-packages (from requests>=2.20->yfinance) (3.0.4)\n",
      "Requirement already satisfied: six>=1.5 in c:\\users\\hp\\anaconda3\\lib\\site-packages (from python-dateutil>=2.7.3->pandas>=0.24->yfinance) (1.15.0)\n",
      "Building wheels for collected packages: yfinance, multitasking\n",
      "  Building wheel for yfinance (setup.py): started\n",
      "  Building wheel for yfinance (setup.py): finished with status 'done'\n",
      "  Created wheel for yfinance: filename=yfinance-0.1.59-py2.py3-none-any.whl size=23447 sha256=7c74c29aaab43f0c80e014912ecfd9d41ad0ee4b2630aeb0d1df606238487bf2\n",
      "  Stored in directory: c:\\users\\hp\\appdata\\local\\pip\\cache\\wheels\\7e\\d5\\f4\\f628965651f61ae35c2bdc73571ce1a2026e1550a336b5ad4b\n",
      "  Building wheel for multitasking (setup.py): started\n",
      "  Building wheel for multitasking (setup.py): finished with status 'done'\n",
      "  Created wheel for multitasking: filename=multitasking-0.0.9-py3-none-any.whl size=8372 sha256=2d3e5edbc87ecf29a33247eff63947fe9c84f044d06c13ef5823da834fbcfb76\n",
      "  Stored in directory: c:\\users\\hp\\appdata\\local\\pip\\cache\\wheels\\57\\6d\\a3\\a39b839cc75274d2acfb1c58bfead2f726c6577fe8c4723f13\n",
      "Successfully built yfinance multitasking\n",
      "Installing collected packages: multitasking, yfinance\n",
      "Successfully installed multitasking-0.0.9 yfinance-0.1.59\n",
      "Note: you may need to restart the kernel to use updated packages.\n"
     ]
    }
   ],
   "source": [
    "!pip install yfinance"
   ]
  },
  {
   "cell_type": "code",
   "execution_count": 1,
   "metadata": {},
   "outputs": [],
   "source": [
    "import pandas as pd\n",
    "import numpy as np\n",
    "import yfinance as yf\n",
    "\n",
    "# Yahoo Finance API for Python to provide live cryptocurrency data with less then a second lag"
   ]
  },
  {
   "cell_type": "code",
   "execution_count": 5,
   "metadata": {},
   "outputs": [
    {
     "name": "stdout",
     "output_type": "stream",
     "text": [
      "[*********************100%***********************]  1 of 1 completed\n"
     ]
    }
   ],
   "source": [
    "data = yf.download(tickers='BTC-USD', period='22h', interval='5m')\n",
    "\n",
    "# Yahoo Finance API arguments: Tickers || Start Date + End Date || Interval\n",
    "#period - 22 last hours (argument_2)\n",
    "#interval = interval of 5 minutes (argument_3)"
   ]
  },
  {
   "cell_type": "code",
   "execution_count": 6,
   "metadata": {},
   "outputs": [
    {
     "data": {
      "text/html": [
       "<div>\n",
       "<style scoped>\n",
       "    .dataframe tbody tr th:only-of-type {\n",
       "        vertical-align: middle;\n",
       "    }\n",
       "\n",
       "    .dataframe tbody tr th {\n",
       "        vertical-align: top;\n",
       "    }\n",
       "\n",
       "    .dataframe thead th {\n",
       "        text-align: right;\n",
       "    }\n",
       "</style>\n",
       "<table border=\"1\" class=\"dataframe\">\n",
       "  <thead>\n",
       "    <tr style=\"text-align: right;\">\n",
       "      <th></th>\n",
       "      <th>Open</th>\n",
       "      <th>High</th>\n",
       "      <th>Low</th>\n",
       "      <th>Close</th>\n",
       "      <th>Adj Close</th>\n",
       "      <th>Volume</th>\n",
       "    </tr>\n",
       "    <tr>\n",
       "      <th>Datetime</th>\n",
       "      <th></th>\n",
       "      <th></th>\n",
       "      <th></th>\n",
       "      <th></th>\n",
       "      <th></th>\n",
       "      <th></th>\n",
       "    </tr>\n",
       "  </thead>\n",
       "  <tbody>\n",
       "    <tr>\n",
       "      <th>2021-04-12 21:40:00+01:00</th>\n",
       "      <td>60225.453125</td>\n",
       "      <td>60225.453125</td>\n",
       "      <td>60215.382812</td>\n",
       "      <td>60220.113281</td>\n",
       "      <td>60220.113281</td>\n",
       "      <td>0</td>\n",
       "    </tr>\n",
       "    <tr>\n",
       "      <th>2021-04-12 21:45:00+01:00</th>\n",
       "      <td>60205.773438</td>\n",
       "      <td>60251.160156</td>\n",
       "      <td>60205.773438</td>\n",
       "      <td>60241.347656</td>\n",
       "      <td>60241.347656</td>\n",
       "      <td>0</td>\n",
       "    </tr>\n",
       "    <tr>\n",
       "      <th>2021-04-12 21:50:00+01:00</th>\n",
       "      <td>60247.441406</td>\n",
       "      <td>60247.441406</td>\n",
       "      <td>60236.179688</td>\n",
       "      <td>60238.906250</td>\n",
       "      <td>60238.906250</td>\n",
       "      <td>208896</td>\n",
       "    </tr>\n",
       "    <tr>\n",
       "      <th>2021-04-12 21:55:00+01:00</th>\n",
       "      <td>60232.863281</td>\n",
       "      <td>60233.667969</td>\n",
       "      <td>60156.992188</td>\n",
       "      <td>60156.992188</td>\n",
       "      <td>60156.992188</td>\n",
       "      <td>6852608</td>\n",
       "    </tr>\n",
       "    <tr>\n",
       "      <th>2021-04-12 22:00:00+01:00</th>\n",
       "      <td>60146.238281</td>\n",
       "      <td>60146.238281</td>\n",
       "      <td>60090.765625</td>\n",
       "      <td>60090.765625</td>\n",
       "      <td>60090.765625</td>\n",
       "      <td>0</td>\n",
       "    </tr>\n",
       "    <tr>\n",
       "      <th>...</th>\n",
       "      <td>...</td>\n",
       "      <td>...</td>\n",
       "      <td>...</td>\n",
       "      <td>...</td>\n",
       "      <td>...</td>\n",
       "      <td>...</td>\n",
       "    </tr>\n",
       "    <tr>\n",
       "      <th>2021-04-13 18:20:00+01:00</th>\n",
       "      <td>63238.199219</td>\n",
       "      <td>63298.746094</td>\n",
       "      <td>63238.199219</td>\n",
       "      <td>63263.343750</td>\n",
       "      <td>63263.343750</td>\n",
       "      <td>56438784</td>\n",
       "    </tr>\n",
       "    <tr>\n",
       "      <th>2021-04-13 18:25:00+01:00</th>\n",
       "      <td>63280.316406</td>\n",
       "      <td>63300.089844</td>\n",
       "      <td>63235.703125</td>\n",
       "      <td>63235.703125</td>\n",
       "      <td>63235.703125</td>\n",
       "      <td>71888896</td>\n",
       "    </tr>\n",
       "    <tr>\n",
       "      <th>2021-04-13 18:30:00+01:00</th>\n",
       "      <td>63248.148438</td>\n",
       "      <td>63332.281250</td>\n",
       "      <td>63246.984375</td>\n",
       "      <td>63317.542969</td>\n",
       "      <td>63317.542969</td>\n",
       "      <td>124309504</td>\n",
       "    </tr>\n",
       "    <tr>\n",
       "      <th>2021-04-13 18:35:00+01:00</th>\n",
       "      <td>63292.089844</td>\n",
       "      <td>63300.191406</td>\n",
       "      <td>63249.792969</td>\n",
       "      <td>63300.191406</td>\n",
       "      <td>63300.191406</td>\n",
       "      <td>58916864</td>\n",
       "    </tr>\n",
       "    <tr>\n",
       "      <th>2021-04-13 18:40:03+01:00</th>\n",
       "      <td>63235.679688</td>\n",
       "      <td>63235.679688</td>\n",
       "      <td>63235.679688</td>\n",
       "      <td>63235.679688</td>\n",
       "      <td>63235.679688</td>\n",
       "      <td>0</td>\n",
       "    </tr>\n",
       "  </tbody>\n",
       "</table>\n",
       "<p>253 rows × 6 columns</p>\n",
       "</div>"
      ],
      "text/plain": [
       "                                   Open          High           Low  \\\n",
       "Datetime                                                              \n",
       "2021-04-12 21:40:00+01:00  60225.453125  60225.453125  60215.382812   \n",
       "2021-04-12 21:45:00+01:00  60205.773438  60251.160156  60205.773438   \n",
       "2021-04-12 21:50:00+01:00  60247.441406  60247.441406  60236.179688   \n",
       "2021-04-12 21:55:00+01:00  60232.863281  60233.667969  60156.992188   \n",
       "2021-04-12 22:00:00+01:00  60146.238281  60146.238281  60090.765625   \n",
       "...                                 ...           ...           ...   \n",
       "2021-04-13 18:20:00+01:00  63238.199219  63298.746094  63238.199219   \n",
       "2021-04-13 18:25:00+01:00  63280.316406  63300.089844  63235.703125   \n",
       "2021-04-13 18:30:00+01:00  63248.148438  63332.281250  63246.984375   \n",
       "2021-04-13 18:35:00+01:00  63292.089844  63300.191406  63249.792969   \n",
       "2021-04-13 18:40:03+01:00  63235.679688  63235.679688  63235.679688   \n",
       "\n",
       "                                  Close     Adj Close     Volume  \n",
       "Datetime                                                          \n",
       "2021-04-12 21:40:00+01:00  60220.113281  60220.113281          0  \n",
       "2021-04-12 21:45:00+01:00  60241.347656  60241.347656          0  \n",
       "2021-04-12 21:50:00+01:00  60238.906250  60238.906250     208896  \n",
       "2021-04-12 21:55:00+01:00  60156.992188  60156.992188    6852608  \n",
       "2021-04-12 22:00:00+01:00  60090.765625  60090.765625          0  \n",
       "...                                 ...           ...        ...  \n",
       "2021-04-13 18:20:00+01:00  63263.343750  63263.343750   56438784  \n",
       "2021-04-13 18:25:00+01:00  63235.703125  63235.703125   71888896  \n",
       "2021-04-13 18:30:00+01:00  63317.542969  63317.542969  124309504  \n",
       "2021-04-13 18:35:00+01:00  63300.191406  63300.191406   58916864  \n",
       "2021-04-13 18:40:03+01:00  63235.679688  63235.679688          0  \n",
       "\n",
       "[253 rows x 6 columns]"
      ]
     },
     "execution_count": 6,
     "metadata": {},
     "output_type": "execute_result"
    }
   ],
   "source": [
    "data"
   ]
  },
  {
   "cell_type": "code",
   "execution_count": 7,
   "metadata": {},
   "outputs": [
    {
     "name": "stdout",
     "output_type": "stream",
     "text": [
      "<class 'pandas.core.frame.DataFrame'>\n",
      "DatetimeIndex: 253 entries, 2021-04-12 21:40:00+01:00 to 2021-04-13 18:40:03+01:00\n",
      "Data columns (total 6 columns):\n",
      " #   Column     Non-Null Count  Dtype  \n",
      "---  ------     --------------  -----  \n",
      " 0   Open       253 non-null    float64\n",
      " 1   High       253 non-null    float64\n",
      " 2   Low        253 non-null    float64\n",
      " 3   Close      253 non-null    float64\n",
      " 4   Adj Close  253 non-null    float64\n",
      " 5   Volume     253 non-null    int64  \n",
      "dtypes: float64(5), int64(1)\n",
      "memory usage: 13.8 KB\n"
     ]
    }
   ],
   "source": [
    "data.info()"
   ]
  },
  {
   "cell_type": "code",
   "execution_count": 8,
   "metadata": {},
   "outputs": [],
   "source": [
    "# dataframe to be stored in CSV file\n",
    "data.to_csv('livebitcoindata.csv')"
   ]
  },
  {
   "cell_type": "code",
   "execution_count": null,
   "metadata": {},
   "outputs": [],
   "source": []
  }
 ],
 "metadata": {
  "kernelspec": {
   "display_name": "Python 3",
   "language": "python",
   "name": "python3"
  },
  "language_info": {
   "codemirror_mode": {
    "name": "ipython",
    "version": 3
   },
   "file_extension": ".py",
   "mimetype": "text/x-python",
   "name": "python",
   "nbconvert_exporter": "python",
   "pygments_lexer": "ipython3",
   "version": "3.8.5"
  }
 },
 "nbformat": 4,
 "nbformat_minor": 4
}
